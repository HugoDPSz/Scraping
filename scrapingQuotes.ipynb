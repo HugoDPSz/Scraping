{
  "nbformat": 4,
  "nbformat_minor": 0,
  "metadata": {
    "colab": {
      "provenance": []
    },
    "kernelspec": {
      "name": "python3",
      "display_name": "Python 3"
    },
    "language_info": {
      "name": "python"
    }
  },
  "cells": [
    {
      "cell_type": "code",
      "execution_count": null,
      "metadata": {
        "id": "TV0Bm3p3tax8"
      },
      "outputs": [],
      "source": [
        "import requests\n",
        "from bs4 import BeautifulSoup\n",
        "import pandas as pd\n",
        "import time"
      ]
    },
    {
      "cell_type": "code",
      "source": [
        "url = \"https://quotes.toscrape.com/\"\n",
        "\n",
        "headers = {\n",
        "    \"User-Agent\": \"Mozilla/5.0\"\n",
        "}\n",
        "\n",
        "response = requests.get(url, headers=headers)\n",
        "soup = BeautifulSoup(response.text, \"html.parser\")"
      ],
      "metadata": {
        "id": "ET0NBquVtz3b"
      },
      "execution_count": null,
      "outputs": []
    },
    {
      "cell_type": "code",
      "source": [
        "quotes = []\n",
        "for quote in soup.find_all('div', itemtype='http://schema.org/CreativeWork'):\n",
        "  quote_text = quote.find('span', class_='text').get_text().strip()\n",
        "  quote_author = quote.find('small', class_='author').get_text().strip()\n",
        "  quotes.append([quote_text, quote_author])"
      ],
      "metadata": {
        "id": "z16318AYuDL7"
      },
      "execution_count": null,
      "outputs": []
    },
    {
      "cell_type": "code",
      "source": [
        "df = pd.DataFrame(quotes, columns=[\"Quote\", \"Author\"])\n",
        "df.to_csv(\"quotes.csv\", index=False)"
      ],
      "metadata": {
        "id": "FEEa8QTwu5aK"
      },
      "execution_count": null,
      "outputs": []
    }
  ]
}