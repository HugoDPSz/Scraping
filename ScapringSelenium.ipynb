{
 "cells": [
  {
   "cell_type": "code",
   "execution_count": 1,
   "id": "b08d7d57-7afa-4594-97e2-90f6b48e0b44",
   "metadata": {
    "jupyter": {
     "source_hidden": true
    }
   },
   "outputs": [
    {
     "name": "stdout",
     "output_type": "stream",
     "text": [
      "Collecting selenium\n",
      "  Downloading selenium-4.31.0-py3-none-any.whl.metadata (7.5 kB)\n",
      "Requirement already satisfied: urllib3<3,>=1.26 in c:\\users\\user\\appdata\\local\\programs\\python\\python312\\lib\\site-packages (from urllib3[socks]<3,>=1.26->selenium) (2.4.0)\n",
      "Collecting trio~=0.17 (from selenium)\n",
      "  Downloading trio-0.30.0-py3-none-any.whl.metadata (8.5 kB)\n",
      "Collecting trio-websocket~=0.9 (from selenium)\n",
      "  Downloading trio_websocket-0.12.2-py3-none-any.whl.metadata (5.1 kB)\n",
      "Requirement already satisfied: certifi>=2021.10.8 in c:\\users\\user\\appdata\\local\\programs\\python\\python312\\lib\\site-packages (from selenium) (2025.1.31)\n",
      "Requirement already satisfied: typing_extensions~=4.9 in c:\\users\\user\\appdata\\local\\programs\\python\\python312\\lib\\site-packages (from selenium) (4.13.2)\n",
      "Requirement already satisfied: websocket-client~=1.8 in c:\\users\\user\\appdata\\local\\programs\\python\\python312\\lib\\site-packages (from selenium) (1.8.0)\n",
      "Requirement already satisfied: attrs>=23.2.0 in c:\\users\\user\\appdata\\local\\programs\\python\\python312\\lib\\site-packages (from trio~=0.17->selenium) (25.3.0)\n",
      "Collecting sortedcontainers (from trio~=0.17->selenium)\n",
      "  Downloading sortedcontainers-2.4.0-py2.py3-none-any.whl.metadata (10 kB)\n",
      "Requirement already satisfied: idna in c:\\users\\user\\appdata\\local\\programs\\python\\python312\\lib\\site-packages (from trio~=0.17->selenium) (3.10)\n",
      "Collecting outcome (from trio~=0.17->selenium)\n",
      "  Downloading outcome-1.3.0.post0-py2.py3-none-any.whl.metadata (2.6 kB)\n",
      "Requirement already satisfied: sniffio>=1.3.0 in c:\\users\\user\\appdata\\local\\programs\\python\\python312\\lib\\site-packages (from trio~=0.17->selenium) (1.3.1)\n",
      "Requirement already satisfied: cffi>=1.14 in c:\\users\\user\\appdata\\local\\programs\\python\\python312\\lib\\site-packages (from trio~=0.17->selenium) (1.17.1)\n",
      "Collecting wsproto>=0.14 (from trio-websocket~=0.9->selenium)\n",
      "  Downloading wsproto-1.2.0-py3-none-any.whl.metadata (5.6 kB)\n",
      "Collecting pysocks!=1.5.7,<2.0,>=1.5.6 (from urllib3[socks]<3,>=1.26->selenium)\n",
      "  Downloading PySocks-1.7.1-py3-none-any.whl.metadata (13 kB)\n",
      "Requirement already satisfied: pycparser in c:\\users\\user\\appdata\\local\\programs\\python\\python312\\lib\\site-packages (from cffi>=1.14->trio~=0.17->selenium) (2.22)\n",
      "Requirement already satisfied: h11<1,>=0.9.0 in c:\\users\\user\\appdata\\local\\programs\\python\\python312\\lib\\site-packages (from wsproto>=0.14->trio-websocket~=0.9->selenium) (0.14.0)\n",
      "Downloading selenium-4.31.0-py3-none-any.whl (9.4 MB)\n",
      "   ---------------------------------------- 0.0/9.4 MB ? eta -:--:--\n",
      "   ----- ---------------------------------- 1.3/9.4 MB 9.6 MB/s eta 0:00:01\n",
      "   --------------- ------------------------ 3.7/9.4 MB 10.9 MB/s eta 0:00:01\n",
      "   -------------------------- ------------- 6.3/9.4 MB 11.0 MB/s eta 0:00:01\n",
      "   ------------------------------------- -- 8.7/9.4 MB 11.2 MB/s eta 0:00:01\n",
      "   ---------------------------------------- 9.4/9.4 MB 9.9 MB/s eta 0:00:00\n",
      "Downloading trio-0.30.0-py3-none-any.whl (499 kB)\n",
      "Downloading trio_websocket-0.12.2-py3-none-any.whl (21 kB)\n",
      "Downloading outcome-1.3.0.post0-py2.py3-none-any.whl (10 kB)\n",
      "Downloading PySocks-1.7.1-py3-none-any.whl (16 kB)\n",
      "Downloading wsproto-1.2.0-py3-none-any.whl (24 kB)\n",
      "Downloading sortedcontainers-2.4.0-py2.py3-none-any.whl (29 kB)\n",
      "Installing collected packages: sortedcontainers, wsproto, pysocks, outcome, trio, trio-websocket, selenium\n",
      "Successfully installed outcome-1.3.0.post0 pysocks-1.7.1 selenium-4.31.0 sortedcontainers-2.4.0 trio-0.30.0 trio-websocket-0.12.2 wsproto-1.2.0\n"
     ]
    }
   ],
   "source": [
    "! pip install selenium"
   ]
  },
  {
   "cell_type": "code",
   "execution_count": 7,
   "id": "5879ed9f-dcc8-45f0-af83-73131d97e970",
   "metadata": {},
   "outputs": [],
   "source": [
    "from selenium import webdriver\n",
    "from selenium.webdriver.chrome.service import Service\n",
    "from selenium.webdriver.chrome.options import Options\n",
    "from bs4 import BeautifulSoup\n",
    "\n",
    "# Caminho do ChromeDriver no seu sistema\n",
    "caminho_driver = r\"C:\\Users\\user\\Desktop\\chromedriver\\chromedriver.exe\"  # <- ajuste se colocou em outra pasta\n",
    "\n",
    "# Configuração do navegador\n",
    "chrome_options = Options()\n",
    "# chrome_options.add_argument(\"--headless\")  # opcional: roda sem abrir janela\n",
    "\n",
    "# Cria o navegador\n",
    "service = Service(caminho_driver)\n",
    "driver = webdriver.Chrome(service=service, options=chrome_options)\n",
    "\n",
    "# Acessa a página\n",
    "url = \"https://www.meutimao.com.br/artilharia-do-corinthians/todos-os-tempos/\"\n",
    "driver.get(url)\n",
    "\n",
    "# Pega o HTML renderizado\n",
    "soup = BeautifulSoup(driver.page_source, 'html.parser')"
   ]
  },
  {
   "cell_type": "code",
   "execution_count": 13,
   "id": "c24e8107-4d7e-41ac-8bfd-a20ed0b811ca",
   "metadata": {},
   "outputs": [
    {
     "name": "stdout",
     "output_type": "stream",
     "text": [
      "[['Nome não encontrado', 'Info não encontrada'], ['Nome não encontrado', 'Info não encontrada'], ['Nome não encontrado', 'Info não encontrada'], ['Nome não encontrado', 'Info não encontrada'], ['Nome não encontrado', 'Info não encontrada'], ['Nome não encontrado', 'Info não encontrada'], ['Nome não encontrado', 'Info não encontrada'], ['Nome não encontrado', 'Info não encontrada'], ['Nome não encontrado', 'Info não encontrada'], ['Nome não encontrado', 'Info não encontrada'], ['Nome não encontrado', 'Info não encontrada'], ['Nome não encontrado', 'Info não encontrada'], ['Nome não encontrado', 'Info não encontrada'], ['Nome não encontrado', 'Info não encontrada'], ['Nome não encontrado', 'Info não encontrada'], ['Nome não encontrado', 'Info não encontrada'], ['Nome não encontrado', 'Info não encontrada'], ['Nome não encontrado', 'Info não encontrada'], ['Nome não encontrado', 'Info não encontrada'], ['Nome não encontrado', 'Info não encontrada'], ['Nome não encontrado', 'Info não encontrada'], ['Nome não encontrado', 'Info não encontrada'], ['Nome não encontrado', 'Info não encontrada'], ['Nome não encontrado', 'Info não encontrada'], ['Nome não encontrado', 'Info não encontrada'], ['Nome não encontrado', 'Info não encontrada'], ['Nome não encontrado', 'Info não encontrada'], ['Nome não encontrado', 'Info não encontrada'], ['Nome não encontrado', 'Info não encontrada'], ['Nome não encontrado', 'Info não encontrada'], ['Nome não encontrado', 'Info não encontrada'], ['Nome não encontrado', 'Info não encontrada'], ['Nome não encontrado', 'Info não encontrada'], ['Nome não encontrado', 'Info não encontrada'], ['Nome não encontrado', 'Info não encontrada'], ['Nome não encontrado', 'Info não encontrada'], ['Nome não encontrado', 'Info não encontrada'], ['Nome não encontrado', 'Info não encontrada'], ['Nome não encontrado', 'Info não encontrada'], ['Nome não encontrado', 'Info não encontrada'], ['Nome não encontrado', 'Info não encontrada'], ['Nome não encontrado', 'Info não encontrada'], ['Nome não encontrado', 'Info não encontrada'], ['Nome não encontrado', 'Info não encontrada'], ['Nome não encontrado', 'Info não encontrada'], ['Nome não encontrado', 'Info não encontrada'], ['Nome não encontrado', 'Info não encontrada'], ['Nome não encontrado', 'Info não encontrada'], ['Nome não encontrado', 'Info não encontrada'], ['Nome não encontrado', 'Info não encontrada'], ['Nome não encontrado', 'Info não encontrada'], ['Nome não encontrado', 'Info não encontrada'], ['Nome não encontrado', 'Info não encontrada'], ['Nome não encontrado', 'Info não encontrada'], ['Nome não encontrado', 'Info não encontrada'], ['Nome não encontrado', 'Info não encontrada'], ['Nome não encontrado', 'Info não encontrada'], ['Nome não encontrado', 'Info não encontrada'], ['Nome não encontrado', 'Info não encontrada'], ['Nome não encontrado', 'Info não encontrada'], ['Nome não encontrado', 'Info não encontrada'], ['Nome não encontrado', 'Info não encontrada'], ['Nome não encontrado', 'Info não encontrada'], ['Nome não encontrado', 'Info não encontrada'], ['Nome não encontrado', 'Info não encontrada'], ['Nome não encontrado', 'Info não encontrada'], ['Nome não encontrado', 'Info não encontrada'], ['Nome não encontrado', 'Info não encontrada'], ['Nome não encontrado', 'Info não encontrada'], ['Nome não encontrado', 'Info não encontrada'], ['Nome não encontrado', 'Info não encontrada'], ['Nome não encontrado', 'Info não encontrada'], ['Nome não encontrado', 'Info não encontrada'], ['Nome não encontrado', 'Info não encontrada'], ['Nome não encontrado', 'Info não encontrada'], ['Nome não encontrado', 'Info não encontrada'], ['Nome não encontrado', 'Info não encontrada'], ['Nome não encontrado', 'Info não encontrada'], ['Nome não encontrado', 'Info não encontrada'], ['Nome não encontrado', 'Info não encontrada'], ['Nome não encontrado', 'Info não encontrada'], ['Nome não encontrado', 'Info não encontrada'], ['Nome não encontrado', 'Info não encontrada'], ['Nome não encontrado', 'Info não encontrada'], ['Nome não encontrado', 'Info não encontrada'], ['Nome não encontrado', 'Info não encontrada'], ['Nome não encontrado', 'Info não encontrada'], ['Nome não encontrado', 'Info não encontrada'], ['Nome não encontrado', 'Info não encontrada'], ['Nome não encontrado', 'Info não encontrada'], ['Nome não encontrado', 'Info não encontrada'], ['Nome não encontrado', 'Info não encontrada'], ['Nome não encontrado', 'Info não encontrada'], ['Nome não encontrado', 'Info não encontrada'], ['Nome não encontrado', 'Info não encontrada'], ['Nome não encontrado', 'Info não encontrada'], ['Nome não encontrado', 'Info não encontrada'], ['Nome não encontrado', 'Info não encontrada'], ['Nome não encontrado', 'Info não encontrada'], ['Nome não encontrado', 'Info não encontrada'], ['Nome não encontrado', '306'], ['Nome não encontrado', '269'], ['Nome não encontrado', '257'], ['Nome não encontrado', '242'], ['Nome não encontrado', '206'], ['Nome não encontrado', '200'], ['Nome não encontrado', '175'], ['Nome não encontrado', 'Info não encontrada'], ['Nome não encontrado', '172'], ['Nome não encontrado', '170'], ['Nome não encontrado', '147'], ['Nome não encontrado', '144'], ['Nome não encontrado', '137'], ['Nome não encontrado', '128'], ['Nome não encontrado', '110'], ['Nome não encontrado', 'Info não encontrada'], ['Nome não encontrado', '110'], ['Nome não encontrado', '105'], ['Nome não encontrado', '101'], ['Nome não encontrado', '99'], ['Nome não encontrado', '95'], ['Nome não encontrado', '94'], ['Nome não encontrado', '93'], ['Nome não encontrado', '92'], ['Nome não encontrado', '91'], ['Nome não encontrado', '82'], ['Nome não encontrado', '80'], ['Nome não encontrado', '76'], ['Nome não encontrado', '75'], ['Nome não encontrado', '70'], ['Nome não encontrado', '69'], ['Nome não encontrado', '67'], ['Nome não encontrado', '66'], ['Nome não encontrado', '66'], ['Nome não encontrado', '66'], ['Nome não encontrado', '65'], ['Nome não encontrado', '65'], ['Nome não encontrado', '65'], ['Nome não encontrado', '65'], ['Nome não encontrado', '62'], ['Nome não encontrado', '62'], ['Nome não encontrado', '60'], ['Nome não encontrado', '58'], ['Nome não encontrado', '58'], ['Nome não encontrado', '57'], ['Nome não encontrado', '55'], ['Nome não encontrado', '55'], ['Nome não encontrado', '54'], ['Nome não encontrado', '53'], ['Nome não encontrado', '53'], ['Nome não encontrado', '52'], ['Nome não encontrado', '51'], ['Nome não encontrado', '50'], ['Nome não encontrado', '50'], ['Nome não encontrado', '50'], ['Nome não encontrado', '50'], ['Nome não encontrado', '50'], ['Nome não encontrado', '49'], ['Nome não encontrado', '47'], ['Nome não encontrado', '46'], ['Nome não encontrado', '43'], ['Nome não encontrado', '43'], ['Nome não encontrado', '42'], ['Nome não encontrado', '41'], ['Nome não encontrado', '41'], ['Nome não encontrado', '40'], ['Nome não encontrado', '39'], ['Nome não encontrado', '38'], ['Nome não encontrado', '38'], ['Nome não encontrado', '37'], ['Nome não encontrado', '37'], ['Nome não encontrado', '36'], ['Nome não encontrado', '36'], ['Nome não encontrado', '36'], ['Nome não encontrado', '36'], ['Nome não encontrado', '36'], ['Nome não encontrado', '36'], ['Nome não encontrado', '36'], ['Nome não encontrado', '36'], ['Nome não encontrado', '35'], ['Nome não encontrado', '35'], ['Nome não encontrado', '35'], ['Nome não encontrado', '35'], ['Nome não encontrado', '34'], ['Nome não encontrado', '34'], ['Nome não encontrado', '34'], ['Nome não encontrado', '33'], ['Nome não encontrado', '33'], ['Nome não encontrado', '32'], ['Nome não encontrado', '32'], ['Nome não encontrado', '32'], ['Nome não encontrado', '32'], ['Nome não encontrado', '32'], ['Nome não encontrado', '31'], ['Nome não encontrado', '31'], ['Nome não encontrado', '31'], ['Nome não encontrado', '30'], ['Nome não encontrado', '30'], ['Nome não encontrado', '30'], ['Nome não encontrado', '30'], ['Nome não encontrado', '29'], ['Nome não encontrado', '29'], ['Nome não encontrado', 'Info não encontrada'], ['Nome não encontrado', 'Info não encontrada'], ['Nome não encontrado', 'Info não encontrada'], ['Nome não encontrado', 'Info não encontrada'], ['Nome não encontrado', 'Info não encontrada'], ['Nome não encontrado', 'Info não encontrada'], ['Nome não encontrado', 'Info não encontrada'], ['Nome não encontrado', 'Info não encontrada'], ['Nome não encontrado', 'Info não encontrada'], ['Nome não encontrado', 'Info não encontrada'], ['Nome não encontrado', 'Info não encontrada'], ['Nome não encontrado', 'Info não encontrada'], ['Nome não encontrado', 'Info não encontrada'], ['Nome não encontrado', 'Info não encontrada'], ['Nome não encontrado', 'Info não encontrada'], ['Nome não encontrado', 'Info não encontrada'], ['Nome não encontrado', 'Info não encontrada'], ['Nome não encontrado', 'Info não encontrada'], ['Nome não encontrado', 'Info não encontrada'], ['Nome não encontrado', 'Info não encontrada'], ['Nome não encontrado', 'Info não encontrada'], ['Nome não encontrado', 'Info não encontrada'], ['Nome não encontrado', 'Info não encontrada'], ['Nome não encontrado', 'Info não encontrada'], ['Nome não encontrado', 'Info não encontrada'], ['Nome não encontrado', 'Info não encontrada'], ['Nome não encontrado', 'Info não encontrada'], ['Nome não encontrado', 'Info não encontrada'], ['Nome não encontrado', 'Info não encontrada'], ['Nome não encontrado', 'Info não encontrada'], ['Nome não encontrado', 'Info não encontrada'], ['Nome não encontrado', 'Info não encontrada'], ['Nome não encontrado', 'Info não encontrada'], ['Nome não encontrado', 'Info não encontrada'], ['Nome não encontrado', 'Info não encontrada'], ['Nome não encontrado', 'Info não encontrada'], ['Nome não encontrado', 'Info não encontrada'], ['Nome não encontrado', 'Info não encontrada'], ['Nome não encontrado', 'Info não encontrada'], ['Nome não encontrado', 'Info não encontrada'], ['Nome não encontrado', 'Info não encontrada'], ['Nome não encontrado', 'Info não encontrada'], ['Nome não encontrado', 'Info não encontrada'], ['Nome não encontrado', 'Info não encontrada'], ['Nome não encontrado', 'Info não encontrada'], ['Nome não encontrado', 'Info não encontrada'], ['Nome não encontrado', 'Info não encontrada'], ['Nome não encontrado', 'Info não encontrada'], ['Nome não encontrado', 'Info não encontrada'], ['Nome não encontrado', 'Info não encontrada'], ['Nome não encontrado', 'Info não encontrada'], ['Nome não encontrado', 'Info não encontrada'], ['Nome não encontrado', 'Info não encontrada'], ['Nome não encontrado', 'Info não encontrada'], ['Nome não encontrado', 'Info não encontrada'], ['Nome não encontrado', 'Info não encontrada'], ['Nome não encontrado', 'Info não encontrada'], ['Nome não encontrado', 'Info não encontrada'], ['Nome não encontrado', 'Info não encontrada'], ['Nome não encontrado', 'Info não encontrada'], ['Nome não encontrado', 'Info não encontrada'], ['Nome não encontrado', 'Info não encontrada'], ['Nome não encontrado', 'Info não encontrada'], ['Nome não encontrado', 'Info não encontrada'], ['Nome não encontrado', 'Info não encontrada'], ['Nome não encontrado', 'Info não encontrada'], ['Nome não encontrado', 'Info não encontrada'], ['Nome não encontrado', 'Info não encontrada'], ['Nome não encontrado', 'Info não encontrada'], ['Nome não encontrado', 'Info não encontrada'], ['Nome não encontrado', 'Info não encontrada'], ['Nome não encontrado', 'Info não encontrada'], ['Nome não encontrado', 'Info não encontrada'], ['Nome não encontrado', 'Info não encontrada'], ['Nome não encontrado', 'Info não encontrada'], ['Nome não encontrado', 'Info não encontrada'], ['Nome não encontrado', 'Info não encontrada'], ['Nome não encontrado', 'Info não encontrada'], ['Nome não encontrado', 'Info não encontrada'], ['Nome não encontrado', 'Info não encontrada'], ['Nome não encontrado', 'Info não encontrada'], ['Nome não encontrado', 'Info não encontrada'], ['Nome não encontrado', 'Info não encontrada'], ['Nome não encontrado', 'Info não encontrada'], ['Nome não encontrado', 'Info não encontrada'], ['Nome não encontrado', 'Info não encontrada'], ['Nome não encontrado', 'Info não encontrada'], ['Nome não encontrado', 'Info não encontrada']]\n"
     ]
    }
   ],
   "source": [
    "jogadores = []\n",
    "\n",
    "for jogador in soup.find_all('li'):\n",
    "    try:\n",
    "        # Verifique se o <a> e outros elementos existem\n",
    "        a_tag = jogador.find('a')\n",
    "        if a_tag:\n",
    "            h5_tag = a_tag.find('h5')\n",
    "            if h5_tag:\n",
    "                span_tag = h5_tag.find('span')\n",
    "                if span_tag:\n",
    "                    nome = span_tag.get_text(strip=True)\n",
    "                else:\n",
    "                    nome = \"Nome não encontrado\"\n",
    "            else:\n",
    "                nome = \"Nome não encontrado\"\n",
    "        else:\n",
    "            nome = \"Nome não encontrado\"\n",
    "        \n",
    "        # Agora, pegue as informações (info)\n",
    "        info_tag = jogador.find('div', class_='info')\n",
    "        if info_tag:\n",
    "            p_tag = info_tag.find('p')\n",
    "            if p_tag:\n",
    "                em_tag = p_tag.find('em')\n",
    "                if em_tag:\n",
    "                    info = em_tag.get_text(strip=True)\n",
    "                else:\n",
    "                    info = \"Info não encontrada\"\n",
    "            else:\n",
    "                info = \"Info não encontrada\"\n",
    "        else:\n",
    "            info = \"Info não encontrada\"\n",
    "        \n",
    "        # Adiciona os dados (nome e info) à lista\n",
    "        jogadores.append([nome, info])\n",
    "        \n",
    "    except Exception as e:\n",
    "        print(f\"Erro ao processar jogador: {e}\")\n",
    "        continue  # Se ocorrer algum erro, continue para o próximo jogador\n",
    "\n",
    "# Imprime os jogadores coletados\n",
    "print(jogadores)\n",
    "\n",
    "driver.quit()"
   ]
  },
  {
   "cell_type": "code",
   "execution_count": 9,
   "id": "98454866-a05f-4be1-9336-14dfdb861862",
   "metadata": {},
   "outputs": [],
   "source": [
    "import pandas as pd\n",
    "df = pd.DataFrame(jogadores, columns=['Nome', 'Gols', 'Jogos', 'Gols por jogo'])\n",
    "df.to_csv('jogadores.csv', index=False)"
   ]
  }
 ],
 "metadata": {
  "kernelspec": {
   "display_name": "Python 3 (ipykernel)",
   "language": "python",
   "name": "python3"
  },
  "language_info": {
   "codemirror_mode": {
    "name": "ipython",
    "version": 3
   },
   "file_extension": ".py",
   "mimetype": "text/x-python",
   "name": "python",
   "nbconvert_exporter": "python",
   "pygments_lexer": "ipython3",
   "version": "3.12.1"
  }
 },
 "nbformat": 4,
 "nbformat_minor": 5
}
