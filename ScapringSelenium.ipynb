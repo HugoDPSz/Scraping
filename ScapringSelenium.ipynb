{
 "cells": [
  {
   "cell_type": "code",
   "execution_count": 1,
   "id": "b08d7d57-7afa-4594-97e2-90f6b48e0b44",
   "metadata": {
    "jupyter": {
     "source_hidden": true
    }
   },
   "outputs": [
    {
     "name": "stdout",
     "output_type": "stream",
     "text": [
      "Collecting selenium\n",
      "  Downloading selenium-4.31.0-py3-none-any.whl.metadata (7.5 kB)\n",
      "Requirement already satisfied: urllib3<3,>=1.26 in c:\\users\\user\\appdata\\local\\programs\\python\\python312\\lib\\site-packages (from urllib3[socks]<3,>=1.26->selenium) (2.4.0)\n",
      "Collecting trio~=0.17 (from selenium)\n",
      "  Downloading trio-0.30.0-py3-none-any.whl.metadata (8.5 kB)\n",
      "Collecting trio-websocket~=0.9 (from selenium)\n",
      "  Downloading trio_websocket-0.12.2-py3-none-any.whl.metadata (5.1 kB)\n",
      "Requirement already satisfied: certifi>=2021.10.8 in c:\\users\\user\\appdata\\local\\programs\\python\\python312\\lib\\site-packages (from selenium) (2025.1.31)\n",
      "Requirement already satisfied: typing_extensions~=4.9 in c:\\users\\user\\appdata\\local\\programs\\python\\python312\\lib\\site-packages (from selenium) (4.13.2)\n",
      "Requirement already satisfied: websocket-client~=1.8 in c:\\users\\user\\appdata\\local\\programs\\python\\python312\\lib\\site-packages (from selenium) (1.8.0)\n",
      "Requirement already satisfied: attrs>=23.2.0 in c:\\users\\user\\appdata\\local\\programs\\python\\python312\\lib\\site-packages (from trio~=0.17->selenium) (25.3.0)\n",
      "Collecting sortedcontainers (from trio~=0.17->selenium)\n",
      "  Downloading sortedcontainers-2.4.0-py2.py3-none-any.whl.metadata (10 kB)\n",
      "Requirement already satisfied: idna in c:\\users\\user\\appdata\\local\\programs\\python\\python312\\lib\\site-packages (from trio~=0.17->selenium) (3.10)\n",
      "Collecting outcome (from trio~=0.17->selenium)\n",
      "  Downloading outcome-1.3.0.post0-py2.py3-none-any.whl.metadata (2.6 kB)\n",
      "Requirement already satisfied: sniffio>=1.3.0 in c:\\users\\user\\appdata\\local\\programs\\python\\python312\\lib\\site-packages (from trio~=0.17->selenium) (1.3.1)\n",
      "Requirement already satisfied: cffi>=1.14 in c:\\users\\user\\appdata\\local\\programs\\python\\python312\\lib\\site-packages (from trio~=0.17->selenium) (1.17.1)\n",
      "Collecting wsproto>=0.14 (from trio-websocket~=0.9->selenium)\n",
      "  Downloading wsproto-1.2.0-py3-none-any.whl.metadata (5.6 kB)\n",
      "Collecting pysocks!=1.5.7,<2.0,>=1.5.6 (from urllib3[socks]<3,>=1.26->selenium)\n",
      "  Downloading PySocks-1.7.1-py3-none-any.whl.metadata (13 kB)\n",
      "Requirement already satisfied: pycparser in c:\\users\\user\\appdata\\local\\programs\\python\\python312\\lib\\site-packages (from cffi>=1.14->trio~=0.17->selenium) (2.22)\n",
      "Requirement already satisfied: h11<1,>=0.9.0 in c:\\users\\user\\appdata\\local\\programs\\python\\python312\\lib\\site-packages (from wsproto>=0.14->trio-websocket~=0.9->selenium) (0.14.0)\n",
      "Downloading selenium-4.31.0-py3-none-any.whl (9.4 MB)\n",
      "   ---------------------------------------- 0.0/9.4 MB ? eta -:--:--\n",
      "   ----- ---------------------------------- 1.3/9.4 MB 9.6 MB/s eta 0:00:01\n",
      "   --------------- ------------------------ 3.7/9.4 MB 10.9 MB/s eta 0:00:01\n",
      "   -------------------------- ------------- 6.3/9.4 MB 11.0 MB/s eta 0:00:01\n",
      "   ------------------------------------- -- 8.7/9.4 MB 11.2 MB/s eta 0:00:01\n",
      "   ---------------------------------------- 9.4/9.4 MB 9.9 MB/s eta 0:00:00\n",
      "Downloading trio-0.30.0-py3-none-any.whl (499 kB)\n",
      "Downloading trio_websocket-0.12.2-py3-none-any.whl (21 kB)\n",
      "Downloading outcome-1.3.0.post0-py2.py3-none-any.whl (10 kB)\n",
      "Downloading PySocks-1.7.1-py3-none-any.whl (16 kB)\n",
      "Downloading wsproto-1.2.0-py3-none-any.whl (24 kB)\n",
      "Downloading sortedcontainers-2.4.0-py2.py3-none-any.whl (29 kB)\n",
      "Installing collected packages: sortedcontainers, wsproto, pysocks, outcome, trio, trio-websocket, selenium\n",
      "Successfully installed outcome-1.3.0.post0 pysocks-1.7.1 selenium-4.31.0 sortedcontainers-2.4.0 trio-0.30.0 trio-websocket-0.12.2 wsproto-1.2.0\n"
     ]
    }
   ],
   "source": [
    "! pip install selenium"
   ]
  },
  {
   "cell_type": "code",
   "execution_count": 16,
   "id": "5879ed9f-dcc8-45f0-af83-73131d97e970",
   "metadata": {},
   "outputs": [
    {
     "name": "stdout",
     "output_type": "stream",
     "text": [
      "ul.relatorio NÃO foi carregada...\n",
      "HTML salvo.\n"
     ]
    }
   ],
   "source": [
    "from selenium import webdriver\n",
    "from selenium.webdriver.chrome.service import Service\n",
    "from selenium.webdriver.chrome.options import Options\n",
    "from selenium.webdriver.common.by import By\n",
    "from selenium.webdriver.support.ui import WebDriverWait\n",
    "from selenium.webdriver.support import expected_conditions as EC\n",
    "from bs4 import BeautifulSoup\n",
    "\n",
    "# Caminho do ChromeDriver no seu sistema\n",
    "caminho_driver = r\"C:\\Users\\user\\Desktop\\chromedriver\\chromedriver.exe\"  # <- ajuste se colocou em outra pasta\n",
    "\n",
    "# Configuração do navegador\n",
    "chrome_options = Options()\n",
    "chrome_options.add_argument(\"--headless\")  # opcional: roda sem abrir janela\n",
    "\n",
    "# Cria o navegador\n",
    "service = Service(caminho_driver)\n",
    "driver = webdriver.Chrome(service=service, options=chrome_options)\n",
    "\n",
    "# Acessa a página\n",
    "url = \"https://www.meutimao.com.br/artilharia-do-corinthians/todos-os-tempos/\"\n",
    "driver.get(url)\n",
    "\n",
    "#Tentando descobrir pq o HTML não carrega\n",
    "#As vezes é necessário esperar um pouco para a página carregar\n",
    "try:\n",
    "    WebDriverWait(driver, 20).until(\n",
    "        EC.presence_of_element_located((By.CLASS_NAME, \"relatorio\"))\n",
    "    )\n",
    "    print(\"ul.relatorio carregada!\")\n",
    "except:\n",
    "    print(\"ul.relatorio NÃO foi carregada...\")\n",
    "\n",
    "#Descobrindo que fui bloqueado\n",
    "html = driver.page_source\n",
    "with open(\"pagina.html\", \"w\", encoding=\"utf-8\") as f:\n",
    "    f.write(html)\n",
    "print(\"HTML salvo.\")\n",
    "\n",
    "\n",
    "# Pega o HTML renderizado\n",
    "soup = BeautifulSoup(driver.page_source, 'html.parser')"
   ]
  },
  {
   "cell_type": "code",
   "execution_count": 12,
   "id": "c24e8107-4d7e-41ac-8bfd-a20ed0b811ca",
   "metadata": {},
   "outputs": [
    {
     "name": "stdout",
     "output_type": "stream",
     "text": [
      "ul.relatorio não encontrada!\n",
      "[]\n"
     ]
    }
   ],
   "source": [
    "jogadores = []\n",
    "\n",
    "# Encontra a <ul class=\"relatorio\">\n",
    "ul_relatorio = soup.find('ul', class_='relatorio')\n",
    "\n",
    "# Garante que a ul foi encontrada\n",
    "if ul_relatorio:\n",
    "    for jogador in ul_relatorio.find_all('li'):\n",
    "        try:\n",
    "            nome = jogador.select_one('h5 a span')\n",
    "            info = jogador.select_one('div.info p em')\n",
    "\n",
    "            # Verifica se os elementos foram encontrados antes de acessar o texto\n",
    "            nome_texto = nome.get_text(strip=True) if nome else \"Nome não encontrado\"\n",
    "            info_texto = info.get_text(strip=True) if info else \"Info não encontrada\"\n",
    "\n",
    "            jogadores.append([nome_texto, info_texto])\n",
    "\n",
    "        except Exception as e:\n",
    "            print(f\"Erro ao processar jogador: {e}\")\n",
    "else:\n",
    "    print(\"ul.relatorio não encontrada!\")\n",
    "\n",
    "# Exibe os jogadores coletados\n",
    "print(jogadores)\n",
    "\n",
    "driver.quit()"
   ]
  },
  {
   "cell_type": "code",
   "execution_count": 9,
   "id": "98454866-a05f-4be1-9336-14dfdb861862",
   "metadata": {},
   "outputs": [],
   "source": [
    "import pandas as pd\n",
    "df = pd.DataFrame(jogadores, columns=['Nome', 'Gols'])\n",
    "df.to_csv('jogadores.csv', index=False)"
   ]
  }
 ],
 "metadata": {
  "kernelspec": {
   "display_name": "Python 3 (ipykernel)",
   "language": "python",
   "name": "python3"
  },
  "language_info": {
   "codemirror_mode": {
    "name": "ipython",
    "version": 3
   },
   "file_extension": ".py",
   "mimetype": "text/x-python",
   "name": "python",
   "nbconvert_exporter": "python",
   "pygments_lexer": "ipython3",
   "version": "3.12.1"
  }
 },
 "nbformat": 4,
 "nbformat_minor": 5
}
